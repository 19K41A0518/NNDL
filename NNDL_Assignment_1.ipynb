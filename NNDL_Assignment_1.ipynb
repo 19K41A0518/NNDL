{
  "nbformat": 4,
  "nbformat_minor": 0,
  "metadata": {
    "colab": {
      "name": "NNDL Assignment-1.ipynb",
      "provenance": [],
      "collapsed_sections": [],
      "authorship_tag": "ABX9TyMWR7/TH/rNb+rVrzA8fZO1",
      "include_colab_link": true
    },
    "kernelspec": {
      "name": "python3",
      "display_name": "Python 3"
    },
    "language_info": {
      "name": "python"
    }
  },
  "cells": [
    {
      "cell_type": "markdown",
      "metadata": {
        "id": "view-in-github",
        "colab_type": "text"
      },
      "source": [
        "<a href=\"https://colab.research.google.com/github/19K41A0518/NNDL/blob/main/NNDL_Assignment_1.ipynb\" target=\"_parent\"><img src=\"https://colab.research.google.com/assets/colab-badge.svg\" alt=\"Open In Colab\"/></a>"
      ]
    },
    {
      "cell_type": "markdown",
      "source": [
        "# Assignment-**1**"
      ],
      "metadata": {
        "id": "b7lx2c8OVcK7"
      }
    },
    {
      "cell_type": "markdown",
      "source": [
        "Estimate the weight of liquid nitrogen based on its pressure using simple regression model. Consider BGD optimizer.\n",
        " Dataset: Pressure and Weight in Cryogenic Flow Meters\n",
        "\n",
        "• Write the python code to build simple linear regression model using BGD optimizer\n",
        "• Do the data normalization • Split the data for train and test (90:10) \n",
        "• Train the simple linear regression model with training data \n",
        "• Compute MSE, RMSE and MAE with training data\n",
        "• Compute MSE, RMSE and MAE with testing data\n"
      ],
      "metadata": {
        "id": "wSp2PvY-Wosj"
      }
    },
    {
      "cell_type": "markdown",
      "source": [
        "**Mount Google Drive**"
      ],
      "metadata": {
        "id": "D3QR29cBXEru"
      }
    },
    {
      "cell_type": "code",
      "execution_count": 22,
      "metadata": {
        "colab": {
          "base_uri": "https://localhost:8080/"
        },
        "id": "4xawuWssTIN3",
        "outputId": "05c84faa-37da-48dc-9651-c1f656bbf615"
      },
      "outputs": [
        {
          "output_type": "stream",
          "name": "stdout",
          "text": [
            "Drive already mounted at /content/drive; to attempt to forcibly remount, call drive.mount(\"/content/drive\", force_remount=True).\n"
          ]
        }
      ],
      "source": [
        "from google.colab import drive\n",
        "drive.mount('/content/drive')"
      ]
    },
    {
      "cell_type": "markdown",
      "source": [
        "**Import libraries**"
      ],
      "metadata": {
        "id": "cO2gdeYDXosw"
      }
    },
    {
      "cell_type": "code",
      "source": [
        "import numpy as np\n",
        "import pandas as pd\n",
        "from sklearn.metrics import mean_squared_error\n",
        "from sklearn.metrics import mean_absolute_error\n",
        "from sklearn.model_selection import train_test_split\n",
        "from sklearn import metrics\n",
        "from sklearn.preprocessing import MinMaxScaler\n",
        "import math"
      ],
      "metadata": {
        "id": "XRxUi8RLTisk"
      },
      "execution_count": 23,
      "outputs": []
    },
    {
      "cell_type": "markdown",
      "source": [
        "**Read the dataset**"
      ],
      "metadata": {
        "id": "EArLFzZvX4sx"
      }
    },
    {
      "cell_type": "code",
      "source": [
        "data=pd.read_excel('/content/drive/MyDrive/Assignment1.xlsx')\n",
        "data.head()"
      ],
      "metadata": {
        "colab": {
          "base_uri": "https://localhost:8080/",
          "height": 206
        },
        "id": "TVn-x4Y9Unni",
        "outputId": "a2b98cb2-df37-4e51-ee39-a21ac74034f4"
      },
      "execution_count": 24,
      "outputs": [
        {
          "output_type": "execute_result",
          "data": {
            "text/html": [
              "\n",
              "  <div id=\"df-dda836fb-6e08-491d-81cc-cf80e3175a97\">\n",
              "    <div class=\"colab-df-container\">\n",
              "      <div>\n",
              "<style scoped>\n",
              "    .dataframe tbody tr th:only-of-type {\n",
              "        vertical-align: middle;\n",
              "    }\n",
              "\n",
              "    .dataframe tbody tr th {\n",
              "        vertical-align: top;\n",
              "    }\n",
              "\n",
              "    .dataframe thead th {\n",
              "        text-align: right;\n",
              "    }\n",
              "</style>\n",
              "<table border=\"1\" class=\"dataframe\">\n",
              "  <thead>\n",
              "    <tr style=\"text-align: right;\">\n",
              "      <th></th>\n",
              "      <th>X</th>\n",
              "      <th>Y</th>\n",
              "    </tr>\n",
              "  </thead>\n",
              "  <tbody>\n",
              "    <tr>\n",
              "      <th>0</th>\n",
              "      <td>75.1</td>\n",
              "      <td>577.8</td>\n",
              "    </tr>\n",
              "    <tr>\n",
              "      <th>1</th>\n",
              "      <td>74.3</td>\n",
              "      <td>577.0</td>\n",
              "    </tr>\n",
              "    <tr>\n",
              "      <th>2</th>\n",
              "      <td>88.7</td>\n",
              "      <td>570.9</td>\n",
              "    </tr>\n",
              "    <tr>\n",
              "      <th>3</th>\n",
              "      <td>114.6</td>\n",
              "      <td>578.6</td>\n",
              "    </tr>\n",
              "    <tr>\n",
              "      <th>4</th>\n",
              "      <td>98.5</td>\n",
              "      <td>572.4</td>\n",
              "    </tr>\n",
              "  </tbody>\n",
              "</table>\n",
              "</div>\n",
              "      <button class=\"colab-df-convert\" onclick=\"convertToInteractive('df-dda836fb-6e08-491d-81cc-cf80e3175a97')\"\n",
              "              title=\"Convert this dataframe to an interactive table.\"\n",
              "              style=\"display:none;\">\n",
              "        \n",
              "  <svg xmlns=\"http://www.w3.org/2000/svg\" height=\"24px\"viewBox=\"0 0 24 24\"\n",
              "       width=\"24px\">\n",
              "    <path d=\"M0 0h24v24H0V0z\" fill=\"none\"/>\n",
              "    <path d=\"M18.56 5.44l.94 2.06.94-2.06 2.06-.94-2.06-.94-.94-2.06-.94 2.06-2.06.94zm-11 1L8.5 8.5l.94-2.06 2.06-.94-2.06-.94L8.5 2.5l-.94 2.06-2.06.94zm10 10l.94 2.06.94-2.06 2.06-.94-2.06-.94-.94-2.06-.94 2.06-2.06.94z\"/><path d=\"M17.41 7.96l-1.37-1.37c-.4-.4-.92-.59-1.43-.59-.52 0-1.04.2-1.43.59L10.3 9.45l-7.72 7.72c-.78.78-.78 2.05 0 2.83L4 21.41c.39.39.9.59 1.41.59.51 0 1.02-.2 1.41-.59l7.78-7.78 2.81-2.81c.8-.78.8-2.07 0-2.86zM5.41 20L4 18.59l7.72-7.72 1.47 1.35L5.41 20z\"/>\n",
              "  </svg>\n",
              "      </button>\n",
              "      \n",
              "  <style>\n",
              "    .colab-df-container {\n",
              "      display:flex;\n",
              "      flex-wrap:wrap;\n",
              "      gap: 12px;\n",
              "    }\n",
              "\n",
              "    .colab-df-convert {\n",
              "      background-color: #E8F0FE;\n",
              "      border: none;\n",
              "      border-radius: 50%;\n",
              "      cursor: pointer;\n",
              "      display: none;\n",
              "      fill: #1967D2;\n",
              "      height: 32px;\n",
              "      padding: 0 0 0 0;\n",
              "      width: 32px;\n",
              "    }\n",
              "\n",
              "    .colab-df-convert:hover {\n",
              "      background-color: #E2EBFA;\n",
              "      box-shadow: 0px 1px 2px rgba(60, 64, 67, 0.3), 0px 1px 3px 1px rgba(60, 64, 67, 0.15);\n",
              "      fill: #174EA6;\n",
              "    }\n",
              "\n",
              "    [theme=dark] .colab-df-convert {\n",
              "      background-color: #3B4455;\n",
              "      fill: #D2E3FC;\n",
              "    }\n",
              "\n",
              "    [theme=dark] .colab-df-convert:hover {\n",
              "      background-color: #434B5C;\n",
              "      box-shadow: 0px 1px 3px 1px rgba(0, 0, 0, 0.15);\n",
              "      filter: drop-shadow(0px 1px 2px rgba(0, 0, 0, 0.3));\n",
              "      fill: #FFFFFF;\n",
              "    }\n",
              "  </style>\n",
              "\n",
              "      <script>\n",
              "        const buttonEl =\n",
              "          document.querySelector('#df-dda836fb-6e08-491d-81cc-cf80e3175a97 button.colab-df-convert');\n",
              "        buttonEl.style.display =\n",
              "          google.colab.kernel.accessAllowed ? 'block' : 'none';\n",
              "\n",
              "        async function convertToInteractive(key) {\n",
              "          const element = document.querySelector('#df-dda836fb-6e08-491d-81cc-cf80e3175a97');\n",
              "          const dataTable =\n",
              "            await google.colab.kernel.invokeFunction('convertToInteractive',\n",
              "                                                     [key], {});\n",
              "          if (!dataTable) return;\n",
              "\n",
              "          const docLinkHtml = 'Like what you see? Visit the ' +\n",
              "            '<a target=\"_blank\" href=https://colab.research.google.com/notebooks/data_table.ipynb>data table notebook</a>'\n",
              "            + ' to learn more about interactive tables.';\n",
              "          element.innerHTML = '';\n",
              "          dataTable['output_type'] = 'display_data';\n",
              "          await google.colab.output.renderOutput(dataTable, element);\n",
              "          const docLink = document.createElement('div');\n",
              "          docLink.innerHTML = docLinkHtml;\n",
              "          element.appendChild(docLink);\n",
              "        }\n",
              "      </script>\n",
              "    </div>\n",
              "  </div>\n",
              "  "
            ],
            "text/plain": [
              "       X      Y\n",
              "0   75.1  577.8\n",
              "1   74.3  577.0\n",
              "2   88.7  570.9\n",
              "3  114.6  578.6\n",
              "4   98.5  572.4"
            ]
          },
          "metadata": {},
          "execution_count": 24
        }
      ]
    },
    {
      "cell_type": "markdown",
      "source": [
        "**Data Normalisation**"
      ],
      "metadata": {
        "id": "LXiEDFxZX9Qg"
      }
    },
    {
      "cell_type": "code",
      "source": [
        "maxX = np.max(data['X'])\n",
        "minX = np.min(data['X'])\n",
        "maxY = np.max(data['Y'])\n",
        "minY = np.min(data['Y'])\n",
        "data['X'] = (data['X'] - minX) / (maxX - minX)\n",
        "data['Y'] = (data['Y'] - minY) / (maxY - minY)"
      ],
      "metadata": {
        "id": "kaEONAx4U4Ik"
      },
      "execution_count": 25,
      "outputs": []
    },
    {
      "cell_type": "markdown",
      "source": [
        "**Split the Data**"
      ],
      "metadata": {
        "id": "4aILZ4FwYD8M"
      }
    },
    {
      "cell_type": "code",
      "source": [
        "x = data['X']\n",
        "y = data['Y']\n",
        "trainX, testX, trainY, testY = train_test_split(x, y, test_size=0.1, random_state=10)"
      ],
      "metadata": {
        "id": "HNgnAldnU6M0"
      },
      "execution_count": 26,
      "outputs": []
    },
    {
      "cell_type": "markdown",
      "source": [
        "**BGD optimisation Algorithm**"
      ],
      "metadata": {
        "id": "QnB5o2OGYKCa"
      }
    },
    {
      "cell_type": "code",
      "source": [
        "m = np.random.uniform(-50, 50)\n",
        "c = np.random.uniform(-50, 50)\n",
        "eta = 0.5\n",
        "epochs = 500\n",
        "\n",
        "for _ in range(epochs):\n",
        "    \n",
        "    gradM = -sum([(trainY.iloc[i] - m * trainX.iloc[i] - c) * trainX.iloc[i] for i in range(trainX.shape[0])])\n",
        "    gradM /= trainX.shape[0]\n",
        "    \n",
        "    gradC = -sum([(trainY.iloc[i] - m * trainX.iloc[i] - c) for i in range(trainX.shape[0])])\n",
        "    gradC /= trainX.shape[0]\n",
        "    \n",
        "    c += - eta * gradC\n",
        "    m += - eta * gradM\n",
        "\n",
        "print(f'm = {m}\\nc = {c}')"
      ],
      "metadata": {
        "colab": {
          "base_uri": "https://localhost:8080/"
        },
        "id": "xqDz24OSU-d4",
        "outputId": "6d95a9cf-2bed-429a-9e35-451db6a1490a"
      },
      "execution_count": 28,
      "outputs": [
        {
          "output_type": "stream",
          "name": "stdout",
          "text": [
            "m = -0.04454381988330393\n",
            "c = 0.665541214563791\n"
          ]
        }
      ]
    },
    {
      "cell_type": "markdown",
      "source": [
        "**Model prediction and error metrics calculation**"
      ],
      "metadata": {
        "id": "Cfy7deM4YTaV"
      }
    },
    {
      "cell_type": "code",
      "source": [
        "train_pred = [m * trainX.iloc[i] + c for i in range(trainX.shape[0])]\n",
        "test_pred = [m * testX.iloc[i] + c for i in range(testX.shape[0])]\n",
        "\n",
        "train_pred = [i * (maxY - minY) + minY for i in train_pred]\n",
        "test_pred = [i * (maxY - minY) + minY for i in test_pred]\n",
        "trainY = [i * (maxY - minY) + minY for i in trainY]\n",
        "testY = [i * (maxY - minY) + minY for i in testY]\n",
        "\n",
        "training_MAE = sum([abs(train_pred[i] - trainY[i]) for i in range(len(trainY))]) / len(trainY)\n",
        "training_MSE = sum([(train_pred[i] - trainY[i]) ** 2 for i in range(len(trainY))]) / len(trainY)\n",
        "training_RMSE = training_MSE ** 0.5\n",
        "print('Training Error :')\n",
        "print(f'MAE : {training_MAE}')\n",
        "print(f'MSE : {training_MSE}')\n",
        "print(f'RMSE : {training_RMSE}')\n",
        "\n",
        "testing_MAE = sum([abs(test_pred[i] - testY[i]) for i in range(len(testY))]) / len(testY)\n",
        "testing_MSE = sum([(test_pred[i] - testY[i]) ** 2 for i in range(len(testY))]) / len(testY)\n",
        "testing_RMSE = testing_MSE ** 0.5\n",
        "print('Testing Error :')\n",
        "print(f'MAE : {testing_MAE}')\n",
        "print(f'MSE : {testing_MSE}')\n",
        "print(f'RMSE : {testing_RMSE}')"
      ],
      "metadata": {
        "colab": {
          "base_uri": "https://localhost:8080/"
        },
        "id": "SnpWD67LVKyE",
        "outputId": "72b7642b-0756-4995-b2d5-3d3e21248d24"
      },
      "execution_count": 29,
      "outputs": [
        {
          "output_type": "stream",
          "name": "stdout",
          "text": [
            "Training Error :\n",
            "MAE : 23.18061201956802\n",
            "MSE : 1177.645125115974\n",
            "RMSE : 34.31683442737651\n",
            "Testing Error :\n",
            "MAE : 52.77063444911291\n",
            "MSE : 4217.715721169876\n",
            "RMSE : 64.94394291363804\n"
          ]
        }
      ]
    },
    {
      "cell_type": "code",
      "source": [
        "pd.DataFrame({'Actual' : trainY, 'Predicted':train_pred})"
      ],
      "metadata": {
        "colab": {
          "base_uri": "https://localhost:8080/",
          "height": 896
        },
        "id": "wLoVkNVqVQ0h",
        "outputId": "c87930c2-479d-4b55-86d2-0253c7bc45e5"
      },
      "execution_count": 30,
      "outputs": [
        {
          "output_type": "execute_result",
          "data": {
            "text/html": [
              "\n",
              "  <div id=\"df-587e89cc-428b-4ebd-8c72-b59c33bb26f9\">\n",
              "    <div class=\"colab-df-container\">\n",
              "      <div>\n",
              "<style scoped>\n",
              "    .dataframe tbody tr th:only-of-type {\n",
              "        vertical-align: middle;\n",
              "    }\n",
              "\n",
              "    .dataframe tbody tr th {\n",
              "        vertical-align: top;\n",
              "    }\n",
              "\n",
              "    .dataframe thead th {\n",
              "        text-align: right;\n",
              "    }\n",
              "</style>\n",
              "<table border=\"1\" class=\"dataframe\">\n",
              "  <thead>\n",
              "    <tr style=\"text-align: right;\">\n",
              "      <th></th>\n",
              "      <th>Actual</th>\n",
              "      <th>Predicted</th>\n",
              "    </tr>\n",
              "  </thead>\n",
              "  <tbody>\n",
              "    <tr>\n",
              "      <th>0</th>\n",
              "      <td>570.9</td>\n",
              "      <td>517.595935</td>\n",
              "    </tr>\n",
              "    <tr>\n",
              "      <th>1</th>\n",
              "      <td>578.6</td>\n",
              "      <td>514.164820</td>\n",
              "    </tr>\n",
              "    <tr>\n",
              "      <th>2</th>\n",
              "      <td>512.8</td>\n",
              "      <td>517.476707</td>\n",
              "    </tr>\n",
              "    <tr>\n",
              "      <th>3</th>\n",
              "      <td>510.2</td>\n",
              "      <td>517.026290</td>\n",
              "    </tr>\n",
              "    <tr>\n",
              "      <th>4</th>\n",
              "      <td>510.0</td>\n",
              "      <td>518.496768</td>\n",
              "    </tr>\n",
              "    <tr>\n",
              "      <th>5</th>\n",
              "      <td>506.4</td>\n",
              "      <td>516.178447</td>\n",
              "    </tr>\n",
              "    <tr>\n",
              "      <th>6</th>\n",
              "      <td>577.0</td>\n",
              "      <td>519.503581</td>\n",
              "    </tr>\n",
              "    <tr>\n",
              "      <th>7</th>\n",
              "      <td>510.9</td>\n",
              "      <td>515.383594</td>\n",
              "    </tr>\n",
              "    <tr>\n",
              "      <th>8</th>\n",
              "      <td>503.9</td>\n",
              "      <td>519.556572</td>\n",
              "    </tr>\n",
              "    <tr>\n",
              "      <th>9</th>\n",
              "      <td>508.6</td>\n",
              "      <td>514.800702</td>\n",
              "    </tr>\n",
              "    <tr>\n",
              "      <th>10</th>\n",
              "      <td>531.7</td>\n",
              "      <td>514.138325</td>\n",
              "    </tr>\n",
              "    <tr>\n",
              "      <th>11</th>\n",
              "      <td>505.2</td>\n",
              "      <td>514.005849</td>\n",
              "    </tr>\n",
              "    <tr>\n",
              "      <th>12</th>\n",
              "      <td>493.0</td>\n",
              "      <td>515.926744</td>\n",
              "    </tr>\n",
              "    <tr>\n",
              "      <th>13</th>\n",
              "      <td>510.8</td>\n",
              "      <td>513.449452</td>\n",
              "    </tr>\n",
              "    <tr>\n",
              "      <th>14</th>\n",
              "      <td>504.3</td>\n",
              "      <td>518.178827</td>\n",
              "    </tr>\n",
              "    <tr>\n",
              "      <th>15</th>\n",
              "      <td>502.8</td>\n",
              "      <td>519.569819</td>\n",
              "    </tr>\n",
              "    <tr>\n",
              "      <th>16</th>\n",
              "      <td>496.4</td>\n",
              "      <td>519.569819</td>\n",
              "    </tr>\n",
              "    <tr>\n",
              "      <th>17</th>\n",
              "      <td>513.4</td>\n",
              "      <td>519.251878</td>\n",
              "    </tr>\n",
              "    <tr>\n",
              "      <th>18</th>\n",
              "      <td>522.0</td>\n",
              "      <td>516.363913</td>\n",
              "    </tr>\n",
              "    <tr>\n",
              "      <th>19</th>\n",
              "      <td>406.7</td>\n",
              "      <td>515.171633</td>\n",
              "    </tr>\n",
              "    <tr>\n",
              "      <th>20</th>\n",
              "      <td>512.8</td>\n",
              "      <td>519.291621</td>\n",
              "    </tr>\n",
              "    <tr>\n",
              "      <th>21</th>\n",
              "      <td>506.3</td>\n",
              "      <td>520.576633</td>\n",
              "    </tr>\n",
              "    <tr>\n",
              "      <th>22</th>\n",
              "      <td>510.2</td>\n",
              "      <td>519.026670</td>\n",
              "    </tr>\n",
              "    <tr>\n",
              "      <th>23</th>\n",
              "      <td>577.8</td>\n",
              "      <td>519.397601</td>\n",
              "    </tr>\n",
              "    <tr>\n",
              "      <th>24</th>\n",
              "      <td>506.2</td>\n",
              "      <td>520.642871</td>\n",
              "    </tr>\n",
              "    <tr>\n",
              "      <th>25</th>\n",
              "      <td>572.4</td>\n",
              "      <td>516.297675</td>\n",
              "    </tr>\n",
              "    <tr>\n",
              "      <th>26</th>\n",
              "      <td>507.1</td>\n",
              "      <td>517.357479</td>\n",
              "    </tr>\n",
              "  </tbody>\n",
              "</table>\n",
              "</div>\n",
              "      <button class=\"colab-df-convert\" onclick=\"convertToInteractive('df-587e89cc-428b-4ebd-8c72-b59c33bb26f9')\"\n",
              "              title=\"Convert this dataframe to an interactive table.\"\n",
              "              style=\"display:none;\">\n",
              "        \n",
              "  <svg xmlns=\"http://www.w3.org/2000/svg\" height=\"24px\"viewBox=\"0 0 24 24\"\n",
              "       width=\"24px\">\n",
              "    <path d=\"M0 0h24v24H0V0z\" fill=\"none\"/>\n",
              "    <path d=\"M18.56 5.44l.94 2.06.94-2.06 2.06-.94-2.06-.94-.94-2.06-.94 2.06-2.06.94zm-11 1L8.5 8.5l.94-2.06 2.06-.94-2.06-.94L8.5 2.5l-.94 2.06-2.06.94zm10 10l.94 2.06.94-2.06 2.06-.94-2.06-.94-.94-2.06-.94 2.06-2.06.94z\"/><path d=\"M17.41 7.96l-1.37-1.37c-.4-.4-.92-.59-1.43-.59-.52 0-1.04.2-1.43.59L10.3 9.45l-7.72 7.72c-.78.78-.78 2.05 0 2.83L4 21.41c.39.39.9.59 1.41.59.51 0 1.02-.2 1.41-.59l7.78-7.78 2.81-2.81c.8-.78.8-2.07 0-2.86zM5.41 20L4 18.59l7.72-7.72 1.47 1.35L5.41 20z\"/>\n",
              "  </svg>\n",
              "      </button>\n",
              "      \n",
              "  <style>\n",
              "    .colab-df-container {\n",
              "      display:flex;\n",
              "      flex-wrap:wrap;\n",
              "      gap: 12px;\n",
              "    }\n",
              "\n",
              "    .colab-df-convert {\n",
              "      background-color: #E8F0FE;\n",
              "      border: none;\n",
              "      border-radius: 50%;\n",
              "      cursor: pointer;\n",
              "      display: none;\n",
              "      fill: #1967D2;\n",
              "      height: 32px;\n",
              "      padding: 0 0 0 0;\n",
              "      width: 32px;\n",
              "    }\n",
              "\n",
              "    .colab-df-convert:hover {\n",
              "      background-color: #E2EBFA;\n",
              "      box-shadow: 0px 1px 2px rgba(60, 64, 67, 0.3), 0px 1px 3px 1px rgba(60, 64, 67, 0.15);\n",
              "      fill: #174EA6;\n",
              "    }\n",
              "\n",
              "    [theme=dark] .colab-df-convert {\n",
              "      background-color: #3B4455;\n",
              "      fill: #D2E3FC;\n",
              "    }\n",
              "\n",
              "    [theme=dark] .colab-df-convert:hover {\n",
              "      background-color: #434B5C;\n",
              "      box-shadow: 0px 1px 3px 1px rgba(0, 0, 0, 0.15);\n",
              "      filter: drop-shadow(0px 1px 2px rgba(0, 0, 0, 0.3));\n",
              "      fill: #FFFFFF;\n",
              "    }\n",
              "  </style>\n",
              "\n",
              "      <script>\n",
              "        const buttonEl =\n",
              "          document.querySelector('#df-587e89cc-428b-4ebd-8c72-b59c33bb26f9 button.colab-df-convert');\n",
              "        buttonEl.style.display =\n",
              "          google.colab.kernel.accessAllowed ? 'block' : 'none';\n",
              "\n",
              "        async function convertToInteractive(key) {\n",
              "          const element = document.querySelector('#df-587e89cc-428b-4ebd-8c72-b59c33bb26f9');\n",
              "          const dataTable =\n",
              "            await google.colab.kernel.invokeFunction('convertToInteractive',\n",
              "                                                     [key], {});\n",
              "          if (!dataTable) return;\n",
              "\n",
              "          const docLinkHtml = 'Like what you see? Visit the ' +\n",
              "            '<a target=\"_blank\" href=https://colab.research.google.com/notebooks/data_table.ipynb>data table notebook</a>'\n",
              "            + ' to learn more about interactive tables.';\n",
              "          element.innerHTML = '';\n",
              "          dataTable['output_type'] = 'display_data';\n",
              "          await google.colab.output.renderOutput(dataTable, element);\n",
              "          const docLink = document.createElement('div');\n",
              "          docLink.innerHTML = docLinkHtml;\n",
              "          element.appendChild(docLink);\n",
              "        }\n",
              "      </script>\n",
              "    </div>\n",
              "  </div>\n",
              "  "
            ],
            "text/plain": [
              "    Actual   Predicted\n",
              "0    570.9  517.595935\n",
              "1    578.6  514.164820\n",
              "2    512.8  517.476707\n",
              "3    510.2  517.026290\n",
              "4    510.0  518.496768\n",
              "5    506.4  516.178447\n",
              "6    577.0  519.503581\n",
              "7    510.9  515.383594\n",
              "8    503.9  519.556572\n",
              "9    508.6  514.800702\n",
              "10   531.7  514.138325\n",
              "11   505.2  514.005849\n",
              "12   493.0  515.926744\n",
              "13   510.8  513.449452\n",
              "14   504.3  518.178827\n",
              "15   502.8  519.569819\n",
              "16   496.4  519.569819\n",
              "17   513.4  519.251878\n",
              "18   522.0  516.363913\n",
              "19   406.7  515.171633\n",
              "20   512.8  519.291621\n",
              "21   506.3  520.576633\n",
              "22   510.2  519.026670\n",
              "23   577.8  519.397601\n",
              "24   506.2  520.642871\n",
              "25   572.4  516.297675\n",
              "26   507.1  517.357479"
            ]
          },
          "metadata": {},
          "execution_count": 30
        }
      ]
    },
    {
      "cell_type": "markdown",
      "source": [
        "**Model Deployment**"
      ],
      "metadata": {
        "id": "DPQQdPVAYi8h"
      }
    },
    {
      "cell_type": "code",
      "source": [
        "x = float(input('Enter the pressure of liquid nitrogen : '))\n",
        "x = (x - minX) / (maxX - minX)\n",
        "prediction = m * x + c\n",
        "prediction = (prediction * (maxY - minY)) + minY\n",
        "print('Predicted Weight :', prediction)"
      ],
      "metadata": {
        "colab": {
          "base_uri": "https://localhost:8080/"
        },
        "id": "fCJMM1k-VXnd",
        "outputId": "66d35b88-ef4a-428d-bb44-ba96d8cf7997"
      },
      "execution_count": 32,
      "outputs": [
        {
          "output_type": "stream",
          "name": "stdout",
          "text": [
            "Enter the pressure of liquid nitrogen : 236\n",
            "Predicted Weight : 498.0822966784298\n"
          ]
        }
      ]
    }
  ]
}